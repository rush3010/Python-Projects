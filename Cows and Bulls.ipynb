{
 "cells": [
  {
   "cell_type": "code",
   "execution_count": null,
   "id": "1cf9dbf7",
   "metadata": {},
   "outputs": [],
   "source": [
    "#Cows and Bulls\n",
    "import random\n",
    "def ngen():\n",
    "    num=random.randint(1000,9999)\n",
    "    if (dup(num)):\n",
    "        return num\n",
    "    else:\n",
    "        ngen()\n",
    "\n",
    "def dup(n):\n",
    "    s=set(str(n))\n",
    "    if len(s)==len(str(n)):\n",
    "        return True\n",
    "    else:\n",
    "        return False\n",
    "    \n",
    "def play():\n",
    "    n=str(ngen())\n",
    "    print(n)\n",
    "    ch=0\n",
    "    while ch!=1:\n",
    "        un=input(\"Guess the number of 4 digit: \")\n",
    "        if len(un)!=4:\n",
    "            print(\"Please enter 4 digit number\")\n",
    "        else:\n",
    "            c,b=0,0\n",
    "            for i in range(4):\n",
    "                if un[i] in n:\n",
    "                    s=n.index(un[i])\n",
    "                    if s==i:\n",
    "                        b+=1\n",
    "                    else:\n",
    "                        c+=1\n",
    "            if b==4:\n",
    "                print(\"Your guess is right\")\n",
    "                print(f\"cows:{c}, bulls:{b}\")\n",
    "                ch=1\n",
    "            else:\n",
    "                print(\"Your Guess is Wrong\")\n",
    "                print(f\"cows:{c}, bulls:{b}\")\n",
    "                ch=-1\n",
    "\n",
    "play()"
   ]
  }
 ],
 "metadata": {
  "kernelspec": {
   "display_name": "Python 3",
   "language": "python",
   "name": "python3"
  },
  "language_info": {
   "codemirror_mode": {
    "name": "ipython",
    "version": 3
   },
   "file_extension": ".py",
   "mimetype": "text/x-python",
   "name": "python",
   "nbconvert_exporter": "python",
   "pygments_lexer": "ipython3",
   "version": "3.8.8"
  }
 },
 "nbformat": 4,
 "nbformat_minor": 5
}
