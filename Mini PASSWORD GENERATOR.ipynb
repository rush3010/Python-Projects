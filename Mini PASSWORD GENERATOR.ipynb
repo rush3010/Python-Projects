{
 "cells": [
  {
   "cell_type": "code",
   "execution_count": 3,
   "id": "3fb676d4",
   "metadata": {},
   "outputs": [
    {
     "name": "stdout",
     "output_type": "stream",
     "text": [
      "Try this Password:  Pnm9xCVh1Ki5B\n"
     ]
    }
   ],
   "source": [
    "#PASSWORD GENERATOR\n",
    "import random\n",
    "mylist = \"132456789abcdefghijklmnopqrstuvwxyzABCDEFGHIJKLMNOPQRSTUVWXYZ\"\n",
    "l=[]\n",
    "for i in range(13):\n",
    "    a=random.choice(mylist)\n",
    "    l.append(a)\n",
    "    password=\"\".join(l)\n",
    "print(\"Try this Password: \",password)"
   ]
  }
 ],
 "metadata": {
  "kernelspec": {
   "display_name": "Python 3",
   "language": "python",
   "name": "python3"
  },
  "language_info": {
   "codemirror_mode": {
    "name": "ipython",
    "version": 3
   },
   "file_extension": ".py",
   "mimetype": "text/x-python",
   "name": "python",
   "nbconvert_exporter": "python",
   "pygments_lexer": "ipython3",
   "version": "3.8.8"
  }
 },
 "nbformat": 4,
 "nbformat_minor": 5
}
