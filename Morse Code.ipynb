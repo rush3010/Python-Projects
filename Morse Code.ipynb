{
 "cells": [
  {
   "cell_type": "code",
   "execution_count": 2,
   "id": "68ccc2c6",
   "metadata": {},
   "outputs": [
    {
     "name": "stdout",
     "output_type": "stream",
     "text": [
      "Enter 1 to Encrypt and 2 for Decrypt : 2\n",
      "Enter your message to be converted : .- -...\n",
      "A\n"
     ]
    }
   ],
   "source": [
    "#user input the word\n",
    "#first convert each letter in morse code\n",
    "#print morse code\n",
    "mcd={ 'A':'.-', 'B':'-...','C':'-.-.', 'D':'-..', 'E':'.','F':'..-.', \n",
    "      'G':'--.', 'H':'....','I':'..', 'J':'.---', 'K':'-.-','L':'.-..', \n",
    "      'M':'--', 'N':'-.','O':'---', 'P':'.--.', 'Q':'--.-','R':'.-.', \n",
    "      'S':'...', 'T':'-','U':'..-', 'V':'...-', 'W':'.--','X':'-..-', \n",
    "      'Y':'-.--', 'Z':'--..','1':'.----', '2':'..---', '3':'...--',\n",
    "      '4':'....-', '5':'.....', '6':'-....','7':'--...', '8':'---..', '9':'----.','0':'-----',',':'--..--', \n",
    "     '.':'.-.-.-','?':'..--..', '/':'-..-.', '-':'-....-','(':'-.--.', ')':'-.--.-','&':'.-...','@':'.--.-.'}\n",
    "\n",
    "def encrypt(message):\n",
    "    c=''\n",
    "    for i in message:\n",
    "        b=i.upper()\n",
    "        if b!=' ':\n",
    "            s=mcd[b]\n",
    "            c+=s+' '\n",
    "        else:\n",
    "            c+='  '\n",
    "    return c\n",
    "\n",
    "def decrypt(n):\n",
    "    d=\"\"\n",
    "    w=\"\"\n",
    "    l=list(mcd.values())\n",
    "    l1=list(mcd.items())\n",
    "    for i in n:\n",
    "        if i!=\" \":\n",
    "            w+=i\n",
    "            s=0\n",
    "            #print(w)\n",
    "        else:\n",
    "            s+=1\n",
    "            if s==2:\n",
    "                d=d+\" \"\n",
    "                \n",
    "            else:\n",
    "                if w!=\" \":\n",
    "                    x=l.index(w)\n",
    "                    k=l1[x][0]\n",
    "                    d=d+k\n",
    "                    w=\"\"          \n",
    "    return d   \n",
    "   \n",
    "    \n",
    "j=input(\"Enter 1 to Encrypt and 2 for Decrypt : \")\n",
    "n=input(\"Enter your message to be converted : \") \n",
    "if j==\"1\":\n",
    "    n=n.upper()\n",
    "    print(encrypt(n))\n",
    "elif j==\"2\":    \n",
    "    print(decrypt(n))\n",
    "else:\n",
    "    print(\"Wrong entry\")"
   ]
  },
  {
   "cell_type": "code",
   "execution_count": 3,
   "id": "909a76f2",
   "metadata": {},
   "outputs": [
    {
     "name": "stdout",
     "output_type": "stream",
     "text": [
      "Enter 1 to encrypt and 2 for decrypt : 2\n",
      "Enter your message to be converted : -.\n",
      "-\n",
      "-.\n",
      "\n"
     ]
    }
   ],
   "source": [
    "mcd={'A':'.-', 'B':'-...','C':'-.-.', 'D':'-..', 'E':'.', 'F':'..-.', 'G':'--.', 'H':'....','I':'..', 'J':'.---', 'K':'-.-',\n",
    "   'L':'.-..', 'M':'--', 'N':'-.','O':'---', 'P':'.--.', 'Q':'--.-','R':'.-.', 'S':'...', 'T':'-','U':'..-', 'V':'...-', \n",
    "   'W':'.--','X':'-..-', 'Y':'-.--', 'Z':'--..','1':'.----', '2':'..---', '3':'...--','4':'....-', '5':'.....', '6':'-....',\n",
    "   '7':'--...', '8':'---..', '9':'----.','0':'-----', ', ':'--..--', '.':'.-.-.-','?':'..--..', '/':'-..-.', '-':'-....-',\n",
    "   '(':'-.--.', ')':'-.--.-','&':'.-...','@':'.--.-.'}\n",
    "\n",
    "def encrypt(message):\n",
    "    c=\"\"\n",
    "    for i in message:\n",
    "        if i!=\" \":\n",
    "            c=c+mcd[i]+\" \"\n",
    "        else:\n",
    "            c=c+\"  \"\n",
    "    return c\n",
    "\n",
    "   \n",
    "def decrypt(n):\n",
    "    d=\"\"\n",
    "    w=\"\"\n",
    "    l=list(mcd.values())\n",
    "    l1=list(mcd.items())\n",
    "    for i in n:\n",
    "        if i!=\" \":\n",
    "            w+=i\n",
    "            s=0\n",
    "            print(w)\n",
    "        else:\n",
    "            s+=1\n",
    "            if s==2:\n",
    "                d=d+\" \"\n",
    "            else:\n",
    "                if w!=\" \":\n",
    "                    x=l.index(w)\n",
    "                    k=l1[x][0]\n",
    "                    d=d+k\n",
    "                    w=\"\"\n",
    "    return d   \n",
    "   \n",
    "    \n",
    "j=input(\"Enter 1 to encrypt and 2 for decrypt : \")\n",
    "n=input(\"Enter your message to be converted : \") \n",
    "if j==\"1\":\n",
    "    n=n.upper()\n",
    "    print(encrypt(n))\n",
    "elif j=='2':    \n",
    "    print(decrypt(n))\n",
    "else:\n",
    "    print(\"Wrong entry\")"
   ]
  },
  {
   "cell_type": "code",
   "execution_count": null,
   "id": "aaa48e85",
   "metadata": {},
   "outputs": [],
   "source": []
  },
  {
   "cell_type": "code",
   "execution_count": null,
   "id": "b432d33f",
   "metadata": {},
   "outputs": [],
   "source": []
  },
  {
   "cell_type": "code",
   "execution_count": null,
   "id": "6061cdb5",
   "metadata": {},
   "outputs": [],
   "source": []
  }
 ],
 "metadata": {
  "kernelspec": {
   "display_name": "Python 3",
   "language": "python",
   "name": "python3"
  },
  "language_info": {
   "codemirror_mode": {
    "name": "ipython",
    "version": 3
   },
   "file_extension": ".py",
   "mimetype": "text/x-python",
   "name": "python",
   "nbconvert_exporter": "python",
   "pygments_lexer": "ipython3",
   "version": "3.8.8"
  }
 },
 "nbformat": 4,
 "nbformat_minor": 5
}
