{
 "cells": [
  {
   "cell_type": "code",
   "execution_count": 4,
   "id": "68ccc2c6",
   "metadata": {},
   "outputs": [
    {
     "name": "stdout",
     "output_type": "stream",
     "text": [
      "Enter 1 to Encrypt and 2 for Decrypt : 2\n",
      "Enter your message to be converted : -. . . . -. ....\n",
      "Decryption\n",
      "NEEENH\n"
     ]
    }
   ],
   "source": [
    "#user input the word\n",
    "#first convert each letter in morse code\n",
    "#print morse code\n",
    "mcd={ 'A':'.-', 'B':'-...','C':'-.-.', 'D':'-..', 'E':'.','F':'..-.', \n",
    "      'G':'--.', 'H':'....','I':'..', 'J':'.---', 'K':'-.-','L':'.-..', \n",
    "      'M':'--', 'N':'-.','O':'---', 'P':'.--.', 'Q':'--.-','R':'.-.', \n",
    "      'S':'...', 'T':'-','U':'..-', 'V':'...-', 'W':'.--','X':'-..-', \n",
    "      'Y':'-.--', 'Z':'--..','1':'.----', '2':'..---', '3':'...--',\n",
    "      '4':'....-', '5':'.....', '6':'-....','7':'--...', '8':'---..', '9':'----.','0':'-----',',':'--..--', \n",
    "     '.':'.-.-.-','?':'..--..', '/':'-..-.', '-':'-....-','(':'-.--.', ')':'-.--.-','&':'.-...','@':'.--.-.'}\n",
    "\n",
    "def encrypt(message):\n",
    "    text=''\n",
    "    for i in message:\n",
    "        b=i.upper()\n",
    "        if b!=' ':\n",
    "            s=mcd[b]\n",
    "            text+=s+' '\n",
    "        else:\n",
    "            text+='  '\n",
    "    return text\n",
    "\n",
    "def decrypt(message):\n",
    "    message+=\" \"\n",
    "    decrypt=\"\"\n",
    "    w=\"\"\n",
    "    l=list(mcd.values())\n",
    "    l1=list(mcd.items())\n",
    "    for i in message:\n",
    "        if i!=\" \":\n",
    "            w+=i\n",
    "            count=0\n",
    "            #print(w)\n",
    "        else:\n",
    "            count+=1\n",
    "            if count==2:\n",
    "                decrypt=decrypt+\" \"  \n",
    "            else:\n",
    "                if w!=\" \":\n",
    "                    x=l.index(w)\n",
    "                    k=l1[x][0]\n",
    "                    decrypt=decrypt+k\n",
    "                    w=\"\"          \n",
    "    return d   \n",
    "   \n",
    "en_de=input(\"Enter 1 to Encrypt and 2 for Decrypt : \")\n",
    "message=input(\"Enter your message to be converted : \") \n",
    "if en_de==\"1\":\n",
    "    print(\"Encryption\")\n",
    "    message=message.upper()\n",
    "    print(encrypt(message))\n",
    "elif en_de==\"2\":\n",
    "    print(\"Decryption\")\n",
    "    print(decrypt(message))\n",
    "else:\n",
    "    print(\"Wrong Entry\")"
   ]
  }
 ],
 "metadata": {
  "kernelspec": {
   "display_name": "Python 3",
   "language": "python",
   "name": "python3"
  },
  "language_info": {
   "codemirror_mode": {
    "name": "ipython",
    "version": 3
   },
   "file_extension": ".py",
   "mimetype": "text/x-python",
   "name": "python",
   "nbconvert_exporter": "python",
   "pygments_lexer": "ipython3",
   "version": "3.8.8"
  }
 },
 "nbformat": 4,
 "nbformat_minor": 5
}
